{
 "cells": [
  {
   "cell_type": "markdown",
   "metadata": {},
   "source": [
    "# Lecture 5\n"
   ]
  },
  {
   "cell_type": "markdown",
   "metadata": {},
   "source": [
    "## Some Definitions\n",
    "\n",
    "If the input is complex Gaussian white noise then\n",
    "\n",
    "$$\n",
    "E\\{x(n)x^*(k)\\} = \\sigma^2\\delta(n-k) \\\\\n",
    "\\\\\n",
    "E\\{x(n)x(k)\\} = 0 \\text{ for all } n,k \\\\\n",
    "E\\{\\text{Re} x(n) \\text{Re} x(k)\\} = \\frac{\\sigma^2}{2}\\delta(n-k) \\\\\n",
    "E\\{\\text{Im} x(n) \\text{Im} x(k)\\} = \\frac{\\sigma^2}{2}\\delta(n-k) \\\\\n",
    "E\\{\\text{Re} x(n) \\text{Im} x(k)\\} = 0 \\\\\n",
    "\n",
    "\n",
    "$$\n"
   ]
  }
 ],
 "metadata": {
  "language_info": {
   "name": "python"
  },
  "orig_nbformat": 4
 },
 "nbformat": 4,
 "nbformat_minor": 2
}
