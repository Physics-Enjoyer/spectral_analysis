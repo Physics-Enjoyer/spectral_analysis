{
 "cells": [
  {
   "cell_type": "markdown",
   "metadata": {},
   "source": [
    "# Lecture 5\n"
   ]
  },
  {
   "cell_type": "markdown",
   "metadata": {},
   "source": [
    "## Some Definitions\n",
    "\n",
    "If the input is complex Gaussian white noise then\n",
    "\n",
    "$$\n",
    "E\\{x(n)x^*(k)\\} = \\sigma^2\\delta(n-k) \\\\\n",
    "\\\\\n",
    "E\\{x(n)x(k)\\} = 0 \\text{ for all } n,k \\\\\n",
    "E\\{\\text{Re} x(n) \\text{Re} x(k)\\} = \\frac{\\sigma^2}{2}\\delta(n-k) \\\\\n",
    "E\\{\\text{Im} x(n) \\text{Im} x(k)\\} = \\frac{\\sigma^2}{2}\\delta(n-k) \\\\\n",
    "E\\{\\text{Re} x(n) \\text{Im} x(k)\\} = 0 \\\\\n",
    "\n",
    "\n",
    "$$\n"
   ]
  }
 ],
 "metadata": {
  "language_info": {
   "codemirror_mode": {
    "name": "ipython",
    "version": 3
   },
   "file_extension": ".py",
   "mimetype": "text/x-python",
   "name": "python",
   "nbconvert_exporter": "python",
   "pygments_lexer": "ipython3",
   "version": "3.11.3"
  }
 },
 "nbformat": 4,
 "nbformat_minor": 2
}