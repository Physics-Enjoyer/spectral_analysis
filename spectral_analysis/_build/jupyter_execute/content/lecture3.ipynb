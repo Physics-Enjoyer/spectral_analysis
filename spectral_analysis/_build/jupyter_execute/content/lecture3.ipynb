{
 "cells": [
  {
   "cell_type": "markdown",
   "metadata": {},
   "source": [
    "# Lecture 3\n"
   ]
  },
  {
   "cell_type": "markdown",
   "metadata": {},
   "source": [
    "## Cramer-Rao Bound (CRB) {cite}`stoica2005spectral`\n",
    "\n",
    "The Cramer-Rao Bound is a parametric estimator.\n",
    "\n",
    "The CRB is the best estimator we can do. this means that an **estimator** which obtains the CRB is efficient.\n",
    "\n",
    "There are generally speaking 2 methods for finding estimators\n",
    "\n",
    "1. Method of Moments\n",
    "   - this method is easy to compute\n",
    "   - but, _usually_ is not efficient and thus does not obtain the CRB\n",
    "2. Method of Maximum likelihood (MLE)\n",
    "   - This method is usually an efficient estimator\n",
    "   - difficult to compute\n",
    "\n",
    "### Examples\n",
    "\n",
    "- Gaussian Distribution (App B.3)\n",
    "- ARMA Spectra (App B.5)\n",
    "  - $A$, $B$ $\\to$ coefficients\n",
    "    > $\\frac{B(z)}{A(z)} \\to$ rational\n",
    "- App B.6\n",
    "  - Spacial Spectra\n",
    "    - Position is important\n",
    "    - Narrow band point sources\n"
   ]
  }
 ],
 "metadata": {
  "kernelspec": {
   "display_name": "homework_env",
   "language": "python",
   "name": "python3"
  },
  "language_info": {
   "codemirror_mode": {
    "name": "ipython",
    "version": 3
   },
   "file_extension": ".py",
   "mimetype": "text/x-python",
   "name": "python",
   "nbconvert_exporter": "python",
   "pygments_lexer": "ipython3",
   "version": "3.11.3"
  }
 },
 "nbformat": 4,
 "nbformat_minor": 2
}