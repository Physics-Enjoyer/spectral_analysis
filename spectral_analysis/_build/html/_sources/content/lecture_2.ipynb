{
 "cells": [
  {
   "cell_type": "markdown",
   "metadata": {},
   "source": [
    "# More special matrices\n"
   ]
  },
  {
   "cell_type": "code",
   "execution_count": 1,
   "metadata": {
    "tags": [
     "remove-output",
     "hide-input"
    ]
   },
   "outputs": [],
   "source": [
    "import numpy as np\n",
    "from matplotlib import pyplot as plt"
   ]
  },
  {
   "cell_type": "markdown",
   "metadata": {},
   "source": [
    "## Hankel Matrix\n",
    "\n",
    "The Hankel matrix is sort of the opposite of a Toeplitz matrix. The \"origin\" element is goes anti-diagonally\n",
    "\n",
    "$$\n",
    "\\bf{H} = \\begin{pmatrix}\n",
    "h(n-1) & h(n-2) & \\cdots & h(1) & h(0) \\\\\n",
    "h(n-2) & h(n-1) & \\cdots & h(0) & h(-1) \\\\\n",
    "h(n-3) & h(n-2) & \\cdots & h(-1) & h(-2) \\\\\n",
    "\\vdots & \\ddots & \\ddots & \\ddots & \\vdots \\\\\n",
    "h(0) & h(-1) & \\cdots & h(1-n) & h(-n) \\\\\n",
    "\\end{pmatrix}\n",
    "$$\n"
   ]
  },
  {
   "cell_type": "markdown",
   "metadata": {},
   "source": [
    "## Shift Matrix\n",
    "\n",
    "the shift matrix is the identity matrix with each element shifted to the right\n",
    "\n",
    "$$\n",
    "\\bf{S} = \\begin{pmatrix}\n",
    "0 & 1 & 0 & \\cdots & 0 \\\\\n",
    "0 & 0 & 1 & \\cdots & 0 \\\\\n",
    "\\vdots & \\ddots & \\ddots & \\ddots & \\vdots \\\\\n",
    "1 & 0 & 0 & \\cdots & 0\n",
    "\\end{pmatrix}\n",
    "$$\n"
   ]
  },
  {
   "cell_type": "markdown",
   "metadata": {},
   "source": [
    "## Triangular Matrices\n",
    "\n",
    "There are 2 types of triangular matrices **Upper Traingular** and **Lower Traingular**.\n",
    "\n",
    "### Upper Triangular Matrix\n",
    "\n",
    "The upper triangular matrix has all values below the diagonal as zero\n",
    "\n",
    "$$\n",
    "\\bf{U} = \\begin{pmatrix}\n",
    "U_{1,1} & U_{1,2} & \\cdots & U_{1,n} \\\\\n",
    "0 & U_{2,2} & \\cdots & U_{2,n} \\\\\n",
    "\\vdots & \\ddots & \\ddots & \\vdots \\\\\n",
    "0 & 0 & \\cdots & U_{n,n}\n",
    "\\end{pmatrix}\n",
    "$$\n",
    "\n",
    "### Lower Triangular Matrix\n",
    "\n",
    "The lower triangular matrix has all values above the diagonal as zero\n",
    "\n",
    "$$\n",
    "\\bf{L} = \\begin{pmatrix}\n",
    "L_{1,1} & 0 & \\cdots & 0 \\\\\n",
    "L_{2,1} & L_{2,2} & \\cdots & 0 \\\\\n",
    "L_{3,1} & L_{3,2} & \\cdots & 0 \\\\\n",
    "\\vdots & \\ddots & \\ddots & \\vdots \\\\\n",
    "L_{n,1} & L_{n,2} & \\cdots & L_{n,n}\n",
    "\\end{pmatrix}\n",
    "$$\n"
   ]
  },
  {
   "cell_type": "markdown",
   "metadata": {},
   "source": [
    "## Matrix Inversion\n",
    "\n",
    "Assume a square matrix $\\bf{A_{n \\times n}}$. The inverse of $\\bf{A}$ is denoted by $\\bf{A}^{-1}$ and is the unique matrix such that\n",
    "\n",
    "$$\\bf{A}\\bf{A}^{-1} = \\bf{A}^{-1}\\bf{A} = \\bf{I}$$\n",
    "\n",
    "Where $\\bf{I}$ is the _identity matrix_ and the determinant $\\det (\\bf{A}) \\neq 0$\n",
    "\n",
    "If $\\bf{A}$ is a Hermitian matrix than the determinant is real $\\det (\\bf{A}) \\in \\mathbb{R}$\n",
    "\n",
    "### The Matrix Inversion Lemma\n",
    "\n",
    "(p. 363 in Stoica & Moses; p. 68 Marple)\n",
    "\n",
    "<!-- TODO: Look up the definition here in Stoica & Moses as well as Marple -->\n",
    "\n",
    "We augment a matrix such that\n",
    "\n",
    "$$\\bf{A} + \\bf{BCD}$$\n",
    "\n",
    "$$(\\bf{A} +\\bf{BCD})^{-1} = \\bf{A}^{-1} - \\bf{A^{-1}B(DA^{-1}B+C^{-1})^{-1}DA^{-1}}$$\n"
   ]
  },
  {
   "cell_type": "markdown",
   "metadata": {},
   "source": [
    "## Linear Matrix Equations\n",
    "\n",
    "$$\n",
    "\\bf{A}_{n \\times m}\\vec{x}_{n\\times 1} = \\vec{b}_{n\\times 1}\n",
    "$$\n",
    "\n",
    "In this equation $\\vec{x}$ is unknown. Solving for $\\vec{x}$ yeilds\n",
    "\n",
    "$\\vec{x} = \\bf{A}^{-1}\\vec{b}$\n",
    "\n",
    "So in order to solve for $\\vec{x}$ we need to find $\\bf{A}^{-1}$\n",
    "\n",
    "We can use **back substitution**\n"
   ]
  }
 ],
 "metadata": {
  "kernelspec": {
   "display_name": "book_env",
   "language": "python",
   "name": "python3"
  },
  "language_info": {
   "codemirror_mode": {
    "name": "ipython",
    "version": 3
   },
   "file_extension": ".py",
   "mimetype": "text/x-python",
   "name": "python",
   "nbconvert_exporter": "python",
   "pygments_lexer": "ipython3",
   "version": "3.11.3"
  },
  "orig_nbformat": 4
 },
 "nbformat": 4,
 "nbformat_minor": 2
}
